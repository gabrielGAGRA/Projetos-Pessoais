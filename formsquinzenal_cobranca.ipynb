{
 "cells": [
  {
   "cell_type": "code",
   "execution_count": null,
   "metadata": {},
   "outputs": [],
   "source": [
    "import pandas as pd\n",
    "import smtplib\n",
    "from email.mime.multipart import MIMEMultipart\n",
    "from email.mime.text import MIMEText\n",
    "import datetime\n",
    "from dotenv import load_dotenv\n",
    "import os"
   ]
  },
  {
   "cell_type": "code",
   "execution_count": null,
   "metadata": {},
   "outputs": [],
   "source": [
    "download_path = os.path.join(os.path.expanduser('~'), 'Downloads')"
   ]
  },
  {
   "cell_type": "code",
   "execution_count": null,
   "metadata": {},
   "outputs": [],
   "source": [
    "file_path = rf\"{download_path}\\Base Consolidada 2025.xlsx\""
   ]
  },
  {
   "cell_type": "code",
   "execution_count": null,
   "metadata": {},
   "outputs": [],
   "source": [
    "email_remetente = \"projetos@polijunior.com.br\"\n",
    "load_dotenv(dotenv_path='.venv/.env')\n",
    "senha = 'projetos.pj'"
   ]
  },
  {
   "cell_type": "code",
   "execution_count": null,
   "metadata": {},
   "outputs": [],
   "source": [
    "def send_email(remetente, destinatario, assunto, corpo, senha):\n",
    "        try:\n",
    "                # Criação da mensagem\n",
    "                msg = MIMEMultipart()\n",
    "                msg['From'] = remetente\n",
    "                msg['To'] = destinatario\n",
    "                msg['Subject'] = assunto\n",
    "\n",
    "                # Corpo do e-mail\n",
    "                msg.attach(MIMEText(corpo, 'html', 'utf-8'))\n",
    "\n",
    "                # Conectar ao servidor SMTP do Gmail\n",
    "                server = smtplib.SMTP('smtp.gmail.com', 587)\n",
    "                server.starttls()  # Encriptação TLS\n",
    "\n",
    "                # Login no servidor\n",
    "                server.login(remetente, senha)\n",
    "\n",
    "                # Envio do e-mail\n",
    "                text = msg.as_string()\n",
    "                server.sendmail(remetente, destinatario, text)\n",
    "\n",
    "                # Encerrar a conexão\n",
    "                server.quit()\n",
    "\n",
    "                print(f\"E-mail enviado com sucesso para {destinatario}\")\n",
    "        except Exception as e:\n",
    "                print(f\"Falha ao enviar e-mail para {destinatario}: {e}\")"
   ]
  },
  {
   "cell_type": "code",
   "execution_count": null,
   "metadata": {},
   "outputs": [],
   "source": [
    "def send_bulk_emails(remetente, destinatarios, assunto, corpo, senha):\n",
    "    \"\"\"Envia e-mails em massa para uma lista de destinatários usando uma única conexão SMTP.\"\"\"\n",
    "    try:\n",
    "        # Criação da mensagem\n",
    "        msg = MIMEMultipart()\n",
    "        msg['From'] = remetente\n",
    "        msg['Subject'] = assunto\n",
    "        msg.attach(MIMEText(corpo, 'html', 'utf-8'))\n",
    "        text = msg.as_string()\n",
    "\n",
    "        # Conectar ao servidor SMTP do Gmail\n",
    "        server = smtplib.SMTP('smtp.gmail.com', 587)\n",
    "        server.starttls()  # Encriptação TLS\n",
    "\n",
    "        # Login no servidor\n",
    "        server.login(remetente, senha)\n",
    "\n",
    "        # Envio dos e-mails em massa\n",
    "        for destinatario in destinatarios:\n",
    "            try:\n",
    "                server.sendmail(remetente, destinatario, text)\n",
    "                print(f\"E-mail enviado com sucesso para {destinatario}\")\n",
    "            except Exception as e:\n",
    "                print(f\"Falha ao enviar e-mail para {destinatario}: {e}\")\n",
    "\n",
    "        # Encerrar a conexão\n",
    "        server.quit()\n",
    "\n",
    "        print(\"Envio em massa concluído.\")\n",
    "\n",
    "    except Exception as e:\n",
    "        print(f\"Falha no envio em massa: {e}\")"
   ]
  },
  {
   "cell_type": "markdown",
   "metadata": {},
   "source": [
    "# "
   ]
  },
  {
   "cell_type": "markdown",
   "metadata": {},
   "source": [
    "# Feeds quinzenais"
   ]
  },
  {
   "cell_type": "code",
   "execution_count": null,
   "metadata": {},
   "outputs": [],
   "source": [
    "# Lemos a sheet \"Base\" da base consolidada\n",
    "base_consolidada = pd.read_excel(file_path, sheet_name='Base')"
   ]
  },
  {
   "cell_type": "code",
   "execution_count": null,
   "metadata": {},
   "outputs": [],
   "source": [
    "# Jogando linhas nulas na coluna 'Projeto', resetando os índices da base e filtrando para projetos em execução\n",
    "base_consolidada_exec = base_consolidada.dropna(subset=['Projeto']).reset_index(drop=True)\n",
    "base_consolidada_exec = base_consolidada_exec[base_consolidada_exec['Status'] == 'Executando'].copy()\n",
    "\n",
    "# Convertendo 'Início Real' para datetime e filtrando para projetos após a data de início da coleta do CSAT\n",
    "base_consolidada_exec['Início Real'] = pd.to_datetime(base_consolidada_exec['Início Real'], dayfirst=True, errors='coerce')\n",
    "base_consolidade_exec_atual = base_consolidada_exec[base_consolidada_exec['Início Real'] > pd.Timestamp(\"2024-07-03\")]\n"
   ]
  },
  {
   "cell_type": "code",
   "execution_count": null,
   "metadata": {},
   "outputs": [],
   "source": [
    "assunto = \"[LEMBRETE]: Preenchimento do Formulário Quinzenal de Projetos\"\n",
    "\n",
    "corpo = '''<!DOCTYPE html>\n",
    "<html lang=\"pt\">\n",
    "<head>\n",
    "    <meta charset=\"UTF-8\">\n",
    "    <meta name=\"viewport\" content=\"width=device-width, initial-scale=1.0\">\n",
    "</head>\n",
    "<body>\n",
    "    <p>Bom dia, equipe!</p>\n",
    "\n",
    "    <p>Gostaria de lembrá-los de preencher o <a href=\"https://www.google.com/url?q=https://forms.gle/HCM1DeVVt8EdELRf9&sa=D&source=calendar&ust=1729946166398169&usg=AOvVaw1tuZHpJl2Fl-oZVaZIwjr5\">formulário quinzenal de projetos</a>. \n",
    "    Ele é essencial para acompanharmos o andamento dos nossos projetos e garantirmos a evolução contínua do nosso trabalho.</p>\n",
    "\n",
    "    <p>É fundamental que todos participem desse processo para que possamos construir um ambiente colaborativo e sempre em busca de melhorias. Contamos com a colaboração de todos para garantir que o formulário seja preenchido com atenção e pontualidade.</p>\n",
    "\n",
    "    <p>Se tiverem alguma dúvida ou precisarem de ajuda, não hesitem em entrar em contato!</p>\n",
    "\n",
    "    <p>Obrigado pela compreensão e bora buscar mais ENBs! 🐺</p>\n",
    "</body>\n",
    "</html>'''"
   ]
  },
  {
   "cell_type": "code",
   "execution_count": null,
   "metadata": {},
   "outputs": [],
   "source": [
    "# Adquirindo a lista de validadores atuais\n",
    "validadores = base_consolidade_exec_atual[base_consolidade_exec_atual['Validador/Coordenador'].notna()]['Validador/Coordenador'].unique()\n"
   ]
  },
  {
   "cell_type": "code",
   "execution_count": null,
   "metadata": {},
   "outputs": [],
   "source": [
    "lista_emails = []"
   ]
  },
  {
   "cell_type": "code",
   "execution_count": null,
   "metadata": {},
   "outputs": [],
   "source": [
    "for validador in validadores:\n",
    "    lista_emails.append(validador + '@polijunior.com.br')\n",
    "    print(f\"E-mail preparado para {validador}\")"
   ]
  },
  {
   "cell_type": "markdown",
   "metadata": {},
   "source": [
    "# TESTE"
   ]
  },
  {
   "cell_type": "code",
   "execution_count": null,
   "metadata": {},
   "outputs": [],
   "source": [
    "raise KeyboardInterrupt\n"
   ]
  },
  {
   "cell_type": "code",
   "execution_count": null,
   "metadata": {},
   "outputs": [],
   "source": [
    "email_teste = \"gabriel.agra@polijunior.com.br\""
   ]
  },
  {
   "cell_type": "code",
   "execution_count": null,
   "metadata": {},
   "outputs": [],
   "source": [
    "# Mandamos 1 e-mail de teste\n",
    "if lista_emails:\n",
    "    email = lista_emails[0]\n",
    "    send_email(\n",
    "        remetente=email_remetente,\n",
    "        destinatario=email_teste,  # Manda para email de teste\n",
    "        assunto=f\"[TESTE - {email}]: {assunto}\", \n",
    "        corpo=corpo,\n",
    "        senha=senha\n",
    "    )"
   ]
  },
  {
   "cell_type": "markdown",
   "metadata": {},
   "source": [
    "# E-MAIL EM MASSA"
   ]
  },
  {
   "cell_type": "code",
   "execution_count": null,
   "metadata": {},
   "outputs": [],
   "source": [
    "raise KeyboardInterrupt\n"
   ]
  },
  {
   "cell_type": "code",
   "execution_count": null,
   "metadata": {},
   "outputs": [],
   "source": [
    "send_bulk_emails(\n",
    "    remetente=email_remetente,\n",
    "    destinatarios=lista_emails,  # Manda para lista de emails dos analistas\n",
    "    assunto=assunto,\n",
    "    corpo=corpo,\n",
    "    senha=senha\n",
    ")"
   ]
  }
 ],
 "metadata": {
  "kernelspec": {
   "display_name": "Python 3",
   "language": "python",
   "name": "python3"
  },
  "language_info": {
   "codemirror_mode": {
    "name": "ipython",
    "version": 3
   },
   "file_extension": ".py",
   "mimetype": "text/x-python",
   "name": "python",
   "nbconvert_exporter": "python",
   "pygments_lexer": "ipython3",
   "version": "3.12.6"
  }
 },
 "nbformat": 4,
 "nbformat_minor": 2
}
