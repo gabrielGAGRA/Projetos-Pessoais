{
 "cells": [
  {
   "cell_type": "code",
   "execution_count": 262,
   "metadata": {},
   "outputs": [],
   "source": [
    "import pandas as pd\n",
    "import smtplib\n",
    "from email.mime.multipart import MIMEMultipart\n",
    "from email.mime.text import MIMEText\n",
    "import datetime\n",
    "from dotenv import load_dotenv\n",
    "import os"
   ]
  },
  {
   "cell_type": "code",
   "execution_count": 263,
   "metadata": {},
   "outputs": [],
   "source": [
    "download_path = os.path.join(os.path.expanduser('~'), 'Downloads')"
   ]
  },
  {
   "cell_type": "code",
   "execution_count": 264,
   "metadata": {},
   "outputs": [],
   "source": [
    "file_path = rf\"{download_path}\\Base Consolidada 2025.xlsx\""
   ]
  },
  {
   "cell_type": "code",
   "execution_count": 265,
   "metadata": {},
   "outputs": [],
   "source": [
    "email_remetente = \"projetos@polijunior.com.br\"\n",
    "load_dotenv(dotenv_path='.venv/.env')\n",
    "senha = 'projetos.pj'"
   ]
  },
  {
   "cell_type": "code",
   "execution_count": 266,
   "metadata": {},
   "outputs": [],
   "source": [
    "error_log = []"
   ]
  },
  {
   "cell_type": "code",
   "execution_count": 267,
   "metadata": {},
   "outputs": [],
   "source": [
    "def send_email(remetente, destinatario, assunto, corpo, senha):\n",
    "        try:\n",
    "                # Criação da mensagem\n",
    "                msg = MIMEMultipart()\n",
    "                msg['From'] = remetente\n",
    "                msg['To'] = destinatario\n",
    "                msg['Subject'] = assunto\n",
    "\n",
    "                # Corpo do e-mail\n",
    "                msg.attach(MIMEText(corpo, 'html', 'utf-8'))\n",
    "\n",
    "                # Conectar ao servidor SMTP do Gmail\n",
    "                server = smtplib.SMTP('smtp.gmail.com', 587)\n",
    "                server.starttls()  # Encriptação TLS\n",
    "\n",
    "                # Login no servidor\n",
    "                server.login(remetente, senha)\n",
    "\n",
    "                # Envio do e-mail\n",
    "                text = msg.as_string()\n",
    "                server.sendmail(remetente, destinatario, text)\n",
    "\n",
    "                # Encerrar a conexão\n",
    "                server.quit()\n",
    "\n",
    "                print(f\"E-mail enviado com sucesso para {destinatario}\")\n",
    "        except Exception as e:\n",
    "                error_log.append(f\"Falha ao enviar e-mail para {destinatario}: {e}\")"
   ]
  },
  {
   "cell_type": "markdown",
   "metadata": {},
   "source": [
    "# Feeds quinzenais"
   ]
  },
  {
   "cell_type": "code",
   "execution_count": 268,
   "metadata": {},
   "outputs": [],
   "source": [
    "feedbacks_quinzenais = pd.read_excel(file_path, sheet_name='Forms Quinzenal de Projetos')"
   ]
  },
  {
   "cell_type": "code",
   "execution_count": 269,
   "metadata": {},
   "outputs": [],
   "source": [
    "def obter_ultima_sexta():\n",
    "    hoje = pd.Timestamp.today()\n",
    "    # Obter a última sexta-feira usando a funcionalidade de dias úteis do pandas\n",
    "    ultima_sexta = hoje - pd.tseries.offsets.Week(weekday=4)\n",
    "    return ultima_sexta.replace(hour=0, minute=0, second=0, microsecond=0)"
   ]
  },
  {
   "cell_type": "code",
   "execution_count": 270,
   "metadata": {},
   "outputs": [],
   "source": [
    "hoje = pd.Timestamp.today()\n",
    "# Obter a última sexta-feira usando a funcionalidade de dias úteis do pandas\n",
    "ultima_sexta = hoje - pd.tseries.offsets.Week(weekday=4)\n",
    "ultima_sexta = ultima_sexta.replace(hour=0, minute=0, second=0, microsecond=0)"
   ]
  },
  {
   "cell_type": "code",
   "execution_count": 271,
   "metadata": {},
   "outputs": [],
   "source": [
    "# Filtre o DataFrame para mostrar apenas datas a partir da última sexta-feira\n",
    "feedbacks_quinzenais = feedbacks_quinzenais.dropna(subset='Timestamp').reset_index()\n",
    "feedbacks_quinzenais = feedbacks_quinzenais[feedbacks_quinzenais['A qual semana as respostas a seguir se referem?\\nSelecione a sexta-feira da quinzena à qual se refere.'] >= ultima_sexta]"
   ]
  },
  {
   "cell_type": "code",
   "execution_count": 272,
   "metadata": {},
   "outputs": [],
   "source": [
    "def cria_corpo_email_analista(projeto, nucleo, nota_qualidade, nota_compromisso, nota_comunicacao, feedback):\n",
    "\n",
    "    assunto = f'[FEEDBACKS] - {projeto}'\n",
    "\n",
    "    corpo = f'''<!DOCTYPE html>\n",
    "        <html lang=\"pt\">\n",
    "        <head>\n",
    "            <meta charset=\"UTF-8\">\n",
    "            <meta name=\"viewport\" content=\"width=device-width, initial-scale=1.0\">\n",
    "        </head>\n",
    "        <corpo>\n",
    "            <h1>Feedbacks: {projeto}</h1>\n",
    "\n",
    "            <p><strong>Núcleo:</strong> {nucleo}</p>\n",
    "            <p><strong>Nota de Qualidade da Entrega:</strong> {nota_qualidade}</p>\n",
    "            <p><strong>Nota de Compromisso:</strong> {nota_compromisso}</p>\n",
    "            <p><strong>Nota de Comunicação:</strong> {nota_comunicacao}</p>\n",
    "            <p><strong>Feedback geral:</strong> {feedback}</p>\n",
    "            Não deixe de conversar com sua liderança para discutir e entender mais sobre os feedbacks!\n",
    "        </corpo>\n",
    "        </html>'''\n",
    "    \n",
    "    return assunto, corpo\n",
    "\n",
    "def obter_dados_analista(linha, numero_analista):\n",
    "    \"\"\"Extrair dados de um analista com base no seu número\"\"\"\n",
    "    if numero_analista == 1:\n",
    "        # O primeiro analista tem nomes de colunas diferentes\n",
    "        return {\n",
    "            'email': linha['Analista 1'] + \"@polijunior.com.br\" if pd.notna(linha['Analista 1']) else None,\n",
    "            'qualidade': linha['Analista 1 [Qualidade de entrega]'],\n",
    "            'compromisso': linha['Analista 1 [Compromisso com o projeto]'],\n",
    "            'comunicacao': linha['Analista 1 [Comunicação e dinâmica de trabalho]'],\n",
    "            'feedback': linha['Dê o feedback ao analista sobre a nota recebida']\n",
    "        }\n",
    "    else:\n",
    "        return {\n",
    "            'email': linha[f'Analista {numero_analista}.1'] + \"@polijunior.com.br\" if pd.notna(linha[f'Analista {numero_analista}.1']) else None,\n",
    "            'qualidade': linha[f'Analista {numero_analista} [Qualidade das entregas]'],\n",
    "            'compromisso': linha[f'Analista {numero_analista} [Compromisso com o projeto]'],\n",
    "            'comunicacao': linha[f'Analista {numero_analista} [Comunicação e dinâmica de trabalho]'],\n",
    "            'feedback': linha[f'Dê o feedback ao analista sobre a nota recebida.{numero_analista-1}']\n",
    "        }\n",
    "        \n",
    "def obter_nome_projeto(linha):\n",
    "    \"\"\"Extrair o nome do projeto da primeira coluna de projeto não nula\"\"\"\n",
    "    colunas_projeto = [\n",
    "        'Nome do Projeto NCiv', \n",
    "        'Nome do Projeto NTec', \n",
    "        'Nome do Projeto NDados', \n",
    "        'Nome do Projeto NCon'\n",
    "    ]\n",
    "    \n",
    "    for coluna in colunas_projeto:\n",
    "        if pd.notna(linha[coluna]):\n",
    "            return linha[coluna]\n",
    "    return None"
   ]
  },
  {
   "cell_type": "code",
   "execution_count": 273,
   "metadata": {},
   "outputs": [],
   "source": [
    "lista_emails = []"
   ]
  },
  {
   "cell_type": "code",
   "execution_count": 274,
   "metadata": {},
   "outputs": [],
   "source": [
    "for indice, linha in feedbacks_quinzenais.iterrows():\n",
    "    projeto = obter_nome_projeto(linha)\n",
    "    nucleo = linha['Núcleo']\n",
    "    \n",
    "    for i in range(0, 4): #ate 4 analistas\n",
    "        try:\n",
    "            dados_analista = obter_dados_analista(linha, i)\n",
    "            \n",
    "            if not dados_analista['email']:\n",
    "                continue\n",
    "                \n",
    "            titulo, corpo = cria_corpo_email_analista(\n",
    "                projeto=projeto,\n",
    "                nucleo=nucleo,\n",
    "                nota_qualidade=dados_analista['qualidade'],\n",
    "                nota_compromisso=dados_analista['compromisso'],\n",
    "                nota_comunicacao=dados_analista['comunicacao'],\n",
    "                feedback=dados_analista['feedback']\n",
    "            )\n",
    "            email_analista = dados_analista['email']\n",
    "            lista_emails.append({\n",
    "                'destinario': email_analista,\n",
    "                'assunto': titulo,\n",
    "                'corpo': corpo\n",
    "            })\n",
    "            \n",
    "            print(f\"E-mail preparado para {email_analista}\")\n",
    "                  \n",
    "        except Exception as e:\n",
    "            error_log.append(f\"Erro ao processar o analista {i} na linha {indice}: {e}\")\n",
    "            break"
   ]
  },
  {
   "cell_type": "markdown",
   "metadata": {},
   "source": [
    "# TESTE"
   ]
  },
  {
   "cell_type": "code",
   "execution_count": 275,
   "metadata": {},
   "outputs": [],
   "source": [
    "email_teste = \"gabriel.agra@polijunior.com.br\""
   ]
  },
  {
   "cell_type": "code",
   "execution_count": 276,
   "metadata": {},
   "outputs": [],
   "source": [
    "# Se quiser mandar todos, use a linha abaixo\n",
    "# for email in lista_emails:\n",
    "\n",
    "# Mandamos 2 e-mails de teste\n",
    "for i in range(min(2, len(lista_emails))):\n",
    "    email = lista_emails[i]\n",
    "    send_email(\n",
    "        remetente=email_remetente,\n",
    "        destinatario=email_teste,  # Manda para email de teste\n",
    "        assunto=f\"[TESTE - {email['destinario']}]: {email['assunto']}\", \n",
    "        corpo=email['corpo'],\n",
    "        senha=senha\n",
    "    )\n",
    "\n",
    "if error_log:\n",
    "    print(\"\\nErros encontrados:\")\n",
    "    for erro in error_log:\n",
    "        print(f\"- {erro}\")"
   ]
  },
  {
   "cell_type": "markdown",
   "metadata": {},
   "source": [
    "# E-MAIL EM MASSA"
   ]
  },
  {
   "cell_type": "code",
   "execution_count": 277,
   "metadata": {},
   "outputs": [],
   "source": [
    "for email in lista_emails:\n",
    "    send_email(\n",
    "        remetente=email_remetente,\n",
    "        destinatario=email['email_analista'],  # Manda para email do analista\n",
    "        assunto=email['assunto'], \n",
    "        corpo=email['corpo'],\n",
    "        senha=senha\n",
    "    )\n",
    "\n",
    "if error_log:\n",
    "    print(\"\\nErros encontrados:\")\n",
    "    for erro in error_log:\n",
    "        print(f\"- {erro}\")"
   ]
  }
 ],
 "metadata": {
  "kernelspec": {
   "display_name": "Python 3",
   "language": "python",
   "name": "python3"
  },
  "language_info": {
   "codemirror_mode": {
    "name": "ipython",
    "version": 3
   },
   "file_extension": ".py",
   "mimetype": "text/x-python",
   "name": "python",
   "nbconvert_exporter": "python",
   "pygments_lexer": "ipython3",
   "version": "3.12.6"
  }
 },
 "nbformat": 4,
 "nbformat_minor": 2
}
