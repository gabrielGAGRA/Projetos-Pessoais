{
 "cells": [
  {
   "cell_type": "code",
   "execution_count": null,
   "metadata": {},
   "outputs": [],
   "source": [
    "import json"
   ]
  },
  {
   "cell_type": "code",
   "execution_count": null,
   "metadata": {},
   "outputs": [],
   "source": [
    "import openai\n",
    "from openai import OpenAI\n",
    "\n",
    "openai.api_key = ''\n",
    "client = OpenAI(api_key=openai.api_key)"
   ]
  },
  {
   "cell_type": "code",
   "execution_count": null,
   "metadata": {},
   "outputs": [],
   "source": [
    "def chunk_data_fixed_size(data, chunk_size):\n",
    "    chunks = []\n",
    "    for i in range(0, len(data), chunk_size):\n",
    "        chunks.append(data[i:i + chunk_size])\n",
    "    return chunks\n",
    "\n",
    "def save_chunks_to_files(chunks):\n",
    "    file_names = []\n",
    "    for i, chunk in enumerate(chunks, start=1):\n",
    "        file_name = f\"parte_da_base_de_saidas_{i}.json\"\n",
    "        with open(file_name, 'w', encoding='utf-8') as f:\n",
    "            json.dump(chunk, f, ensure_ascii=False, indent=4)\n",
    "        print(f\"File {file_name} has been created and saved.\")\n",
    "        file_names.append(file_name)\n",
    "    return file_names"
   ]
  },
  {
   "cell_type": "code",
   "execution_count": null,
   "metadata": {},
   "outputs": [],
   "source": [
    "with open(r'C:\\Users\\gabri\\Documents\\PROJETOS\\PY\\PJ_Code\\Nutax\\Modelo IA\\Dados_JSON_limpos\\novo-base_saidas_202407142342.json', 'r', encoding='utf-8') as f:\n",
    "    data = json.load(f)\n",
    "\n",
    "chunk_size = 4100\n",
    "chunks = chunk_data_fixed_size(data, chunk_size)\n",
    "file_names = save_chunks_to_files(chunks)"
   ]
  },
  {
   "cell_type": "code",
   "execution_count": null,
   "metadata": {},
   "outputs": [],
   "source": [
    "import os"
   ]
  },
  {
   "cell_type": "code",
   "execution_count": null,
   "metadata": {},
   "outputs": [],
   "source": [
    "directory_path = r''\n",
    "\n",
    "\n",
    "file_paths = [os.path.join(directory_path, file) for file in os.listdir(directory_path) if file.endswith('.json')]\n",
    "file_streams = [open(path, 'rb') for path in file_paths]"
   ]
  },
  {
   "cell_type": "code",
   "execution_count": null,
   "metadata": {},
   "outputs": [],
   "source": [
    "file_batch = client.beta.vector_stores.file_batches.upload_and_poll(\n",
    "    vector_store_id='vs_pv8VIaf39XpWgHxL1zUdUmnw',\n",
    "    files=file_streams\n",
    ")"
   ]
  }
 ],
 "metadata": {
  "kernelspec": {
   "display_name": "Python 3",
   "language": "python",
   "name": "python3"
  },
  "language_info": {
   "codemirror_mode": {
    "name": "ipython",
    "version": 3
   },
   "file_extension": ".py",
   "mimetype": "text/x-python",
   "name": "python",
   "nbconvert_exporter": "python",
   "pygments_lexer": "ipython3",
   "version": "3.12.3"
  }
 },
 "nbformat": 4,
 "nbformat_minor": 2
}
