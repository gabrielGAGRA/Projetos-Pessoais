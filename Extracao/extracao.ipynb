{
 "cells": [
  {
   "cell_type": "code",
   "execution_count": 69,
   "id": "3f81e21e",
   "metadata": {},
   "outputs": [],
   "source": [
    "import re\n",
    "import io"
   ]
  },
  {
   "cell_type": "code",
   "execution_count": 70,
   "id": "2fc3bd39",
   "metadata": {},
   "outputs": [],
   "source": [
    "# Extracted data from the PDF content\n",
    "data = \"\"\"\n",
    "Nr.,Código,P1\n",
    "1,14554943,3,50\n",
    "2,15436950,4,75\n",
    "3,15437054,6,75\n",
    "4,15438591,1,25\n",
    "5,15493801,9,50\n",
    "6,15493899,6,25\n",
    "7,14559361,8,75\n",
    "8,7774880,0,50\n",
    "9,13684582,3,50\n",
    "10,13684662,7,25\n",
    "11,14651851,\n",
    "12,15443750,5,25\n",
    "13,15443983,0,25\n",
    "14,14777389,0,75\n",
    "15,14563637,4.25\n",
    "16,15445310,3,50\n",
    "17,15635778,5.25\n",
    "18,13684213,2.25\n",
    "19,15446687,6,50\n",
    "20,13864360,7,75\n",
    "21,10677794,1,00\n",
    "22,15447910,8,25\n",
    "23,15520186,7,00\n",
    "24,13748818,8.75\n",
    "25,14652654,2,00\n",
    "26,5980278,8.50\n",
    "27,15448709,6,25\n",
    "28,15449781,7,00\n",
    "29,15450654,4.75\n",
    "30,15451280,9,50\n",
    "31,15451492,9,50\n",
    "32,14569863,6,50\n",
    "33,14570628,7,00\n",
    "34,15452743,2,75\n",
    "35,15453491,9,00\n",
    "36,15453560,7,50\n",
    "37,14755270,4.25\n",
    "38,15454039,9,25\n",
    "39,15674452,5,50\n",
    "40,15457290,6,50\n",
    "41,15457665,3,00\n",
    "42,15458072,5,75\n",
    "43,14777782,1,75\n",
    "44,12544080,7,50\n",
    "45,15459177,1,75\n",
    "46,13715975,\n",
    "47,13684043,\n",
    "48,15463001,10,00\n",
    "49,15463850,8.25\n",
    "50,15495734,0,00\n",
    "51,14583313,5,75\n",
    "52,15464430,3,25\n",
    "53,15638635,\n",
    "54,10772891,\n",
    "55,15508831,8,75\n",
    "56,12556142,5,00\n",
    "57,15469133,8,25\n",
    "58,14591201,8,75\n",
    "59,15471911,9,25\n",
    "60,14591802,0,25\n",
    "61,15474654,3,50\n",
    "62,15587775,2,75\n",
    "63,15478957,3,25\n",
    "64,15497076,5,00\n",
    "65,14597920,4,50\n",
    "66,15520593,2,00\n",
    "67,15746351,3,00\n",
    "68,13683921,1,75\n",
    "69,15480922,\n",
    "70,15482441,\n",
    "71,6617691,4,75\n",
    "72,13680866,3,00\n",
    "73,14602394,3,50\n",
    "74,14603054,5,75\n",
    "75,15484395,6,00\n",
    "76,15695737,6,00\n",
    "77,15641299,3,75\n",
    "78,15485490,6,00\n",
    "79,13683914,\n",
    "80,14604865,8,75\n",
    "81,13683831,\n",
    "82,11916238,4,75\n",
    "83,15511213,3,75\n",
    "84,15497865,2,75\n",
    "85,15490090,9.25\n",
    "86,15490148,10,00\n",
    "87,15642283,5,75\n",
    "88,10738158,7,25\n",
    "89,12547002,3,50\n",
    "90,14610917,1,00\n",
    "91,14612392,\n",
    "92,14612687,8.75\n",
    "\"\"\""
   ]
  },
  {
   "cell_type": "code",
   "execution_count": 71,
   "id": "7025c6b6",
   "metadata": {},
   "outputs": [
    {
     "data": {
      "text/plain": [
       "'\\n'"
      ]
     },
     "execution_count": 71,
     "metadata": {},
     "output_type": "execute_result"
    }
   ],
   "source": [
    "# Treat the data as a file\n",
    "csv_file = io.StringIO(data)\n",
    "\n",
    "p1_values = []\n",
    "next(csv_file)  # Skip the header line"
   ]
  },
  {
   "cell_type": "code",
   "execution_count": 72,
   "id": "844abc61",
   "metadata": {},
   "outputs": [
    {
     "name": "stdout",
     "output_type": "stream",
     "text": [
      "Invalid P1 value found: P1\n",
      "Average of P1 values: 4.966463414634147\n"
     ]
    }
   ],
   "source": [
    "for line in csv_file:\n",
    "    parts = line.strip().split(\",\")\n",
    "    if len(parts) >= 3 and parts[2]:  # Ensure there's a P1 value and it's not empty\n",
    "        p1_value = parts[2]\n",
    "        if p1_value != \"\":  # Check if the value is not empty\n",
    "            try:\n",
    "                p1_values.append(float(p1_value))\n",
    "            except ValueError:\n",
    "                print(f\"Invalid P1 value found: {parts[2]}\")\n",
    "\n",
    "if p1_values:\n",
    "    average_p1 = sum(p1_values) / len(p1_values)\n",
    "    print(f\"Average of P1 values: {average_p1}\")\n",
    "else:\n",
    "    print(\"No valid P1 values found to calculate the average.\")"
   ]
  },
  {
   "cell_type": "code",
   "execution_count": 73,
   "id": "05e89cd3",
   "metadata": {},
   "outputs": [],
   "source": [
    "import statistics\n",
    "import matplotlib.pyplot as plt\n",
    "\n",
    "# --- Cálculo das métricas estatísticas ---\n",
    "mean_p1 = statistics.mean(p1_values)\n",
    "stdev_p1 = statistics.stdev(p1_values)\n",
    "var_p1 = statistics.variance(p1_values)\n",
    "min_p1 = min(p1_values)\n",
    "max_p1 = max(p1_values)\n",
    "median_p1 = statistics.median(p1_values)\n",
    "modes_p1 = statistics.multimode(p1_values)\n",
    "quartis = statistics.quantiles(p1_values, n=4)  # [Q1, Q2, Q3]\n",
    "q1, q2, q3 = quartis\n",
    "count_total = len(p1_values)\n",
    "count_below_5 = sum(1 for v in p1_values if v < 5)\n",
    "percent_below_5 = count_below_5 / count_total * 100"
   ]
  },
  {
   "cell_type": "code",
   "execution_count": 74,
   "id": "e40556a6",
   "metadata": {},
   "outputs": [
    {
     "name": "stdout",
     "output_type": "stream",
     "text": [
      "Quantidade de notas: 82\n",
      "Média: 4.97\n",
      "Desvio padrão: 2.81\n",
      "Variância: 7.91\n",
      "Min: 0.00  |  Q1: 3.00  |  Mediana (Q2): 5.00  |  Q3: 7.00  |  Max: 10.00\n",
      "Moda(s): 3.00\n",
      "Notas < 5: 37 (45.1%)\n"
     ]
    }
   ],
   "source": [
    "print(f\"Quantidade de notas: {count_total}\")\n",
    "print(f\"Média: {mean_p1:.2f}\")\n",
    "print(f\"Desvio padrão: {stdev_p1:.2f}\")\n",
    "print(f\"Variância: {var_p1:.2f}\")\n",
    "print(\n",
    "    f\"Min: {min_p1:.2f}  |  Q1: {q1:.2f}  |  Mediana (Q2): {median_p1:.2f}  |  Q3: {q3:.2f}  |  Max: {max_p1:.2f}\"\n",
    ")\n",
    "print(f\"Moda(s): {', '.join(f'{m:.2f}' for m in modes_p1)}\")\n",
    "print(f\"Notas < 5: {count_below_5} ({percent_below_5:.1f}%)\")"
   ]
  },
  {
   "cell_type": "code",
   "execution_count": 75,
   "id": "fd871400",
   "metadata": {},
   "outputs": [
    {
     "data": {
      "image/png": "[encoded data removed]",
      "text/plain": [
       "<Figure size 800x400 with 1 Axes>"
      ]
     },
     "metadata": {},
     "output_type": "display_data"
    }
   ],
   "source": [
    "import numpy as np\n",
    "\n",
    "# --- Histograma das notas com mais precisão e mais rótulos no eixo x ---\n",
    "fig, ax = plt.subplots(figsize=(8, 4))\n",
    "bins = 20  # Mais bins para maior precisão\n",
    "ax.hist(p1_values, bins=bins, edgecolor=\"black\")\n",
    "ax.axvline(\n",
    "    mean_p1, color=\"red\", linestyle=\"--\", linewidth=1, label=f\"Média {mean_p1:.2f}\"\n",
    ")\n",
    "ax.axvline(\n",
    "    median_p1,\n",
    "    color=\"green\",\n",
    "    linestyle=\"--\",\n",
    "    linewidth=1,\n",
    "    label=f\"Mediana {median_p1:.2f}\",\n",
    ")\n",
    "ax.set_title(\"Histograma das Notas P1\")\n",
    "ax.set_xlabel(\"Nota\")\n",
    "ax.set_ylabel(\"Frequência\")\n",
    "\n",
    "# Mais rótulos no eixo x\n",
    "xticks = np.arange(min_p1, max_p1 + 0.5, 0.5)\n",
    "ax.set_xticks(xticks)\n",
    "ax.set_xlim(min_p1, max_p1)\n",
    "ax.legend()\n",
    "plt.tight_layout()\n",
    "plt.show()"
   ]
  },
  {
   "cell_type": "code",
   "execution_count": 76,
   "id": "5e02b425",
   "metadata": {},
   "outputs": [
    {
     "data": {
      "image/png": "[encoded data removed]",
      "text/plain": [
       "<Figure size 600x200 with 1 Axes>"
      ]
     },
     "metadata": {},
     "output_type": "display_data"
    }
   ],
   "source": [
    "# --- Boxplot das notas ---\n",
    "fig, ax = plt.subplots(figsize=(6, 2))\n",
    "ax.boxplot(p1_values, vert=False, patch_artist=True)\n",
    "ax.set_title(\"Boxplot das Notas P1\")\n",
    "ax.set_xlabel(\"Nota\")\n",
    "plt.show()"
   ]
  }
 ],
 "metadata": {
  "kernelspec": {
   "display_name": "Python 3",
   "language": "python",
   "name": "python3"
  },
  "language_info": {
   "codemirror_mode": {
    "name": "ipython",
    "version": 3
   },
   "file_extension": ".py",
   "mimetype": "text/x-python",
   "name": "python",
   "nbconvert_exporter": "python",
   "pygments_lexer": "ipython3",
   "version": "3.12.6"
  }
 },
 "nbformat": 4,
 "nbformat_minor": 5
}
