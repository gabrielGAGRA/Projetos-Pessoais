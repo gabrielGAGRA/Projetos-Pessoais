{
 "cells": [
  {
   "cell_type": "markdown",
   "metadata": {},
   "source": [
    "#### Extracao do texto (sem colunas, remove todas as linhas com apenas uma palavra)"
   ]
  },
  {
   "cell_type": "code",
   "execution_count": null,
   "metadata": {},
   "outputs": [],
   "source": [
    "import fitz\n",
    "\n",
    "# Abrir o documento PDF\n",
    "pdf_document = fitz.open(r\"C:\\Users\\gabri\\Documents\\PJ_Docs\\Nutax\\Guia Prático EFD - Versão 3.1.6.pdf\")\n",
    "\n",
    "# Extrair texto do PDF\n",
    "text = \"\"\n",
    "for page_num in range(len(pdf_document)):\n",
    "    page = pdf_document.load_page(page_num)\n",
    "    text += page.get_text()\n",
    "\n",
    "# Dividir o texto em linhas\n",
    "lines = text.splitlines()\n",
    "\n",
    "# Filtrar linhas que começam com 'Página ' e linhas com apenas uma palavra\n",
    "filtered_lines = [line for line in lines if not line.startswith('Página ') and len(line.split()) > 2]\n",
    "\n",
    "# Juntar as linhas filtradas em uma única string\n",
    "filtered_text = \"\\n\".join(filtered_lines)\n",
    "\n",
    "# Substituir caracteres de nova linha por espaços\n",
    "modified_text = filtered_text.replace(\"\\n\", \" \")\n",
    "\n",
    "# Escrever o texto modificado em um arquivo de saída\n",
    "output_file_path = \"extracted_text2.txt\"\n",
    "with open(output_file_path, 'w', encoding='utf-8') as file:\n",
    "    file.write(modified_text)"
   ]
  }
 ],
 "metadata": {
  "language_info": {
   "name": "python"
  }
 },
 "nbformat": 4,
 "nbformat_minor": 2
}
