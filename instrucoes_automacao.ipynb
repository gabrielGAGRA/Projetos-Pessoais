{
 "cells": [
  {
   "cell_type": "markdown",
   "metadata": {},
   "source": [
    "# Accessing Google Sheets Directly Instead of Downloading Excel\n",
    "\n",
    "Yes, you can access Google Sheets directly without downloading the file each time. Since the sheet is only visible to organization members, you'll need to use a service account for authentication. Here's how to set it up:\n",
    "\n",
    "## Step 1: Create a Service Account\n",
    "\n",
    "1. Go to [Google Cloud Console](https://console.cloud.google.com/)\n",
    "2. Create a new project (or use an existing one)\n",
    "3. Enable the Google Sheets API\n",
    "4. Create a service account:\n",
    "   - Go to \"IAM & Admin\" > \"Service Accounts\"\n",
    "   - Click \"Create Service Account\"\n",
    "   - Give it a name and description\n",
    "   - Click \"Create and Continue\"\n",
    "   - Grant necessary roles (Viewer is sufficient for read-only)\n",
    "   - Click \"Done\"\n",
    "5. Create a key for the service account:\n",
    "   - Click on the service account\n",
    "   - Go to \"Keys\" tab\n",
    "   - Add a new key (JSON format)\n",
    "   - Download the JSON file (keep this secure!)\n",
    "\n",
    "## Step 2: Share Your Google Sheet with the Service Account\n",
    "\n",
    "1. Copy the service account email (looks like `name@project-id.iam.gserviceaccount.com`)\n",
    "2. Open your Google Sheet\n",
    "3. Click \"Share\"\n",
    "4. Add the service account email\n",
    "5. Set appropriate permissions (Viewer is sufficient for read-only access)\n",
    "\n",
    "## Step 3: Install Required Libraries\n",
    "\n"
   ]
  },
  {
   "cell_type": "code",
   "execution_count": null,
   "metadata": {
    "vscode": {
     "languageId": ""
    }
   },
   "outputs": [],
   "source": [
    "pip install gspread oauth2client pandas"
   ]
  },
  {
   "cell_type": "markdown",
   "metadata": {},
   "source": [
    "\n",
    "\n",
    "## Step 4: Python Code to Access the Sheet\n",
    "\n"
   ]
  },
  {
   "cell_type": "code",
   "execution_count": null,
   "metadata": {},
   "outputs": [],
   "source": [
    "import gspread\n",
    "from oauth2client.service_account import ServiceAccountCredentials\n",
    "import pandas as pd\n",
    "\n",
    "def get_sheet_data():\n",
    "    # Define the scope\n",
    "    scope = ['https://spreadsheets.google.com/feeds',\n",
    "             'https://www.googleapis.com/auth/drive']\n",
    "    \n",
    "    # Add credentials to the account\n",
    "    creds_path = 'path/to/your-service-account-credentials.json'  # Update this\n",
    "    creds = ServiceAccountCredentials.from_json_keyfile_name(creds_path, scope)\n",
    "    \n",
    "    # Authorize the clientsheet\n",
    "    client = gspread.authorize(creds)\n",
    "    \n",
    "    # Get the sheet instance\n",
    "    sheet_id = 'your-google-sheet-id'  # Extract from the URL of your sheet\n",
    "    sheet = client.open_by_key(sheet_id)\n",
    "    \n",
    "    # Get specific worksheet\n",
    "    worksheet = sheet.worksheet('Sheet1')  # Change to your sheet name\n",
    "    \n",
    "    # Extract all data from the worksheet\n",
    "    data = worksheet.get_all_records()\n",
    "    \n",
    "    # Convert to pandas DataFrame\n",
    "    df = pd.DataFrame(data)\n",
    "    \n",
    "    return df\n",
    "\n",
    "# Replace your current file loading code with this\n",
    "# file_path = rf\"{download_path}\\Base Consolidada 2025.xlsx\"\n",
    "# feedbacks_quinzenais = pd.read_excel(file_path, sheet_name='Forms Quinzenal de Projetos')\n",
    "\n",
    "feedbacks_quinzenais = get_sheet_data()"
   ]
  },
  {
   "cell_type": "markdown",
   "metadata": {},
   "source": [
    "\n",
    "\n",
    "## Security and Access Control Best Practices\n",
    "\n",
    "1. **Store credentials securely**: Never commit your credentials JSON file to version control\n",
    "2. **Use environment variables**: For production, store the path to credentials in environment variables\n",
    "3. **Limit service account permissions**: Only grant the minimum necessary access\n",
    "4. **Audit access regularly**: Check who has access to both the service account and sheet\n",
    "\n",
    "## Enhanced Code with Better Security\n",
    "\n"
   ]
  },
  {
   "cell_type": "code",
   "execution_count": null,
   "metadata": {},
   "outputs": [],
   "source": [
    "import gspread\n",
    "from oauth2client.service_account import ServiceAccountCredentials\n",
    "import pandas as pd\n",
    "import os\n",
    "import json\n",
    "\n",
    "def get_sheet_data():\n",
    "    # Check for credentials in environment variable first\n",
    "    creds_json = os.environ.get('GOOGLE_SHEET_CREDS')\n",
    "    \n",
    "    if creds_json:\n",
    "        # Create temporary credentials file\n",
    "        creds = ServiceAccountCredentials.from_json_keyfile_dict(\n",
    "            json.loads(creds_json),\n",
    "            ['https://spreadsheets.google.com/feeds', 'https://www.googleapis.com/auth/drive']\n",
    "        )\n",
    "    else:\n",
    "        # Fall back to file-based credentials\n",
    "        creds_path = os.environ.get('GOOGLE_SHEET_CREDS_PATH', 'path/to/creds.json')\n",
    "        creds = ServiceAccountCredentials.from_json_keyfile_name(\n",
    "            creds_path,\n",
    "            ['https://spreadsheets.google.com/feeds', 'https://www.googleapis.com/auth/drive']\n",
    "        )\n",
    "    \n",
    "    # Authorize\n",
    "    client = gspread.authorize(creds)\n",
    "    \n",
    "    # Get sheet by ID (from environment or hardcoded)\n",
    "    sheet_id = os.environ.get('GOOGLE_SHEET_ID', 'your-google-sheet-id')\n",
    "    sheet = client.open_by_key(sheet_id)\n",
    "    \n",
    "    # Get worksheet\n",
    "    worksheet_name = os.environ.get('GOOGLE_WORKSHEET_NAME', 'Forms Quinzenal de Projetos')\n",
    "    worksheet = sheet.worksheet(worksheet_name)\n",
    "    \n",
    "    # Get data as DataFrame\n",
    "    return pd.DataFrame(worksheet.get_all_records())\n",
    "\n",
    "# Use the function instead of file loading\n",
    "feedbacks_quinzenais = get_sheet_data()"
   ]
  },
  {
   "cell_type": "markdown",
   "metadata": {},
   "source": [
    "\n",
    "\n",
    "This approach eliminates the need to download files and gives you real-time access to the latest data in your Google Sheet."
   ]
  }
 ],
 "metadata": {
  "language_info": {
   "name": "python"
  }
 },
 "nbformat": 4,
 "nbformat_minor": 2
}
